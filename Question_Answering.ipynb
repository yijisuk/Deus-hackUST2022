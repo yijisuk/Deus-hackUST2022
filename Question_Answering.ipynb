{
  "nbformat": 4,
  "nbformat_minor": 0,
  "metadata": {
    "colab": {
      "provenance": []
    },
    "kernelspec": {
      "name": "python3",
      "display_name": "Python 3"
    },
    "language_info": {
      "name": "python"
    }
  },
  "cells": [
    {
      "cell_type": "code",
      "execution_count": null,
      "metadata": {
        "colab": {
          "base_uri": "https://localhost:8080/"
        },
        "id": "vzO1o6CeCJMd",
        "outputId": "db7a15af-f161-4f51-96d5-c8f3cf636b9c"
      },
      "outputs": [
        {
          "output_type": "stream",
          "name": "stdout",
          "text": [
            "Collecting openai\n",
            "  Downloading openai-0.18.1.tar.gz (42 kB)\n",
            "\u001b[?25l\r\u001b[K     |███████▊                        | 10 kB 24.4 MB/s eta 0:00:01\r\u001b[K     |███████████████▍                | 20 kB 25.7 MB/s eta 0:00:01\r\u001b[K     |███████████████████████▏        | 30 kB 27.2 MB/s eta 0:00:01\r\u001b[K     |██████████████████████████████▉ | 40 kB 28.8 MB/s eta 0:00:01\r\u001b[K     |████████████████████████████████| 42 kB 477 kB/s \n",
            "\u001b[?25h  Installing build dependencies ... \u001b[?25l\u001b[?25hdone\n",
            "  Getting requirements to build wheel ... \u001b[?25l\u001b[?25hdone\n",
            "    Preparing wheel metadata ... \u001b[?25l\u001b[?25hdone\n",
            "Requirement already satisfied: openpyxl>=3.0.7 in /usr/local/lib/python3.7/dist-packages (from openai) (3.0.9)\n",
            "Collecting pandas-stubs>=1.1.0.11\n",
            "  Downloading pandas_stubs-1.2.0.58-py3-none-any.whl (162 kB)\n",
            "\u001b[K     |████████████████████████████████| 162 kB 35.6 MB/s \n",
            "\u001b[?25hRequirement already satisfied: requests>=2.20 in /usr/local/lib/python3.7/dist-packages (from openai) (2.23.0)\n",
            "Requirement already satisfied: pandas>=1.2.3 in /usr/local/lib/python3.7/dist-packages (from openai) (1.3.5)\n",
            "Requirement already satisfied: tqdm in /usr/local/lib/python3.7/dist-packages (from openai) (4.64.0)\n",
            "Requirement already satisfied: et-xmlfile in /usr/local/lib/python3.7/dist-packages (from openpyxl>=3.0.7->openai) (1.1.0)\n",
            "Requirement already satisfied: python-dateutil>=2.7.3 in /usr/local/lib/python3.7/dist-packages (from pandas>=1.2.3->openai) (2.8.2)\n",
            "Requirement already satisfied: numpy>=1.17.3 in /usr/local/lib/python3.7/dist-packages (from pandas>=1.2.3->openai) (1.21.6)\n",
            "Requirement already satisfied: pytz>=2017.3 in /usr/local/lib/python3.7/dist-packages (from pandas>=1.2.3->openai) (2022.1)\n",
            "Requirement already satisfied: typing-extensions>=3.7.4.3 in /usr/local/lib/python3.7/dist-packages (from pandas-stubs>=1.1.0.11->openai) (4.2.0)\n",
            "Requirement already satisfied: six>=1.5 in /usr/local/lib/python3.7/dist-packages (from python-dateutil>=2.7.3->pandas>=1.2.3->openai) (1.15.0)\n",
            "Requirement already satisfied: certifi>=2017.4.17 in /usr/local/lib/python3.7/dist-packages (from requests>=2.20->openai) (2021.10.8)\n",
            "Requirement already satisfied: chardet<4,>=3.0.2 in /usr/local/lib/python3.7/dist-packages (from requests>=2.20->openai) (3.0.4)\n",
            "Requirement already satisfied: urllib3!=1.25.0,!=1.25.1,<1.26,>=1.21.1 in /usr/local/lib/python3.7/dist-packages (from requests>=2.20->openai) (1.24.3)\n",
            "Requirement already satisfied: idna<3,>=2.5 in /usr/local/lib/python3.7/dist-packages (from requests>=2.20->openai) (2.10)\n",
            "Building wheels for collected packages: openai\n",
            "  Building wheel for openai (PEP 517) ... \u001b[?25l\u001b[?25hdone\n",
            "  Created wheel for openai: filename=openai-0.18.1-py3-none-any.whl size=53168 sha256=cf05587b475161f74fd9c569b2ccd1f090786e8518af6c702fc73c582876ece0\n",
            "  Stored in directory: /root/.cache/pip/wheels/5a/bf/24/fcdc9d2b81f9c7e565bb2036ec9f7cc930056b829895b3bf48\n",
            "Successfully built openai\n",
            "Installing collected packages: pandas-stubs, openai\n",
            "Successfully installed openai-0.18.1 pandas-stubs-1.2.0.58\n"
          ]
        }
      ],
      "source": [
        "!pip install openai"
      ]
    },
    {
      "cell_type": "code",
      "source": [
        "import openai\n",
        "openai.organization = \"\"\n",
        "openai.api_key = \"\""
      ],
      "metadata": {
        "id": "IXCR9NE3CKvM"
      },
      "execution_count": null,
      "outputs": []
    },
    {
      "cell_type": "code",
      "source": [
        "#@markdown The models' training data cuts off in October 2019; there may be incapabilities in answering regarding recent context knowledge. Keep that in mind.\n",
        "purpose = \"Question\" #@param [\"Question\", \"Other\"] {type: \"string\"}\n",
        "#@markdown Leave the instruction empty if your purpose is ```Question```.\n",
        "instruction = \"\" #@param {type:\"string\"}\n",
        "prompt = \"How do I write a Python for loop in a single line?\" #@param {type:\"string\"}\n",
        "#@markdown You may leave the ```answer_requirements``` empty if you don't have one.\n",
        "answer_requirement = \"Give an explanation.\" #@param {type:\"string\"}\n",
        "\n",
        "if purpose == \"Question\":\n",
        "  response = openai.Completion.create(\n",
        "    engine=\"text-davinci-002\",\n",
        "    prompt=f\"Q:{prompt}\\n{answer_requirement}\\nA:\",\n",
        "    temperature=0.8,\n",
        "    max_tokens=256,\n",
        "    top_p=1,\n",
        "    frequency_penalty=0.1,\n",
        "    presence_penalty=0.0,\n",
        "    stop=[\"\\n\"]\n",
        "  )\n",
        "elif purpose == \"Other\":\n",
        "  response = openai.Completion.create(\n",
        "    engine=\"text-davinci-002\",\n",
        "    prompt=f\"{instruction}\\n{prompt}\\n{answer_requirement}\\nA:\",\n",
        "    temperature=0.8,\n",
        "    max_tokens=256,\n",
        "    top_p=1,\n",
        "    frequency_penalty=0.1,\n",
        "    presence_penalty=0.0,\n",
        "    stop=[\"\\n\"]\n",
        "  )"
      ],
      "metadata": {
        "id": "IDxEnHcvCy9B"
      },
      "execution_count": null,
      "outputs": []
    },
    {
      "cell_type": "code",
      "source": [
        "import textwrap\n",
        "print(textwrap.fill(textwrap.dedent(response[\"choices\"][0][\"text\"]).strip(), width=100))"
      ],
      "metadata": {
        "colab": {
          "base_uri": "https://localhost:8080/"
        },
        "id": "Tvy0qZ0LJ4qE",
        "outputId": "1cadf6e9-e161-449b-c3db-6c2c48f4a30f"
      },
      "execution_count": null,
      "outputs": [
        {
          "output_type": "stream",
          "name": "stdout",
          "text": [
            "You can write a Python for loop in a single line by using the \"for in\" operator. This operator\n",
            "iterates through a list of values, executing a block of code for each value in the list.\n"
          ]
        }
      ]
    }
  ]
}