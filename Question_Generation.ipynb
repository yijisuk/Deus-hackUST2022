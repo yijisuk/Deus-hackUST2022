{
  "nbformat": 4,
  "nbformat_minor": 0,
  "metadata": {
    "colab": {
      "provenance": []
    },
    "kernelspec": {
      "name": "python3",
      "display_name": "Python 3"
    },
    "language_info": {
      "name": "python"
    }
  },
  "cells": [
    {
      "cell_type": "code",
      "execution_count": null,
      "metadata": {
        "colab": {
          "base_uri": "https://localhost:8080/"
        },
        "id": "F8QkNO1BfcT0",
        "outputId": "df228cf8-17f1-42a0-b93f-b5dcc9ee45a8"
      },
      "outputs": [
        {
          "output_type": "stream",
          "name": "stdout",
          "text": [
            "Collecting openai\n",
            "  Downloading openai-0.18.1.tar.gz (42 kB)\n",
            "\u001b[?25l\r\u001b[K     |███████▊                        | 10 kB 23.3 MB/s eta 0:00:01\r\u001b[K     |███████████████▍                | 20 kB 25.7 MB/s eta 0:00:01\r\u001b[K     |███████████████████████▏        | 30 kB 29.5 MB/s eta 0:00:01\r\u001b[K     |██████████████████████████████▉ | 40 kB 18.8 MB/s eta 0:00:01\r\u001b[K     |████████████████████████████████| 42 kB 1.0 MB/s \n",
            "\u001b[?25h  Installing build dependencies ... \u001b[?25l\u001b[?25hdone\n",
            "  Getting requirements to build wheel ... \u001b[?25l\u001b[?25hdone\n",
            "    Preparing wheel metadata ... \u001b[?25l\u001b[?25hdone\n",
            "Collecting pandas-stubs>=1.1.0.11\n",
            "  Downloading pandas_stubs-1.2.0.58-py3-none-any.whl (162 kB)\n",
            "\u001b[K     |████████████████████████████████| 162 kB 31.3 MB/s \n",
            "\u001b[?25hRequirement already satisfied: requests>=2.20 in /usr/local/lib/python3.7/dist-packages (from openai) (2.23.0)\n",
            "Requirement already satisfied: pandas>=1.2.3 in /usr/local/lib/python3.7/dist-packages (from openai) (1.3.5)\n",
            "Requirement already satisfied: openpyxl>=3.0.7 in /usr/local/lib/python3.7/dist-packages (from openai) (3.0.9)\n",
            "Requirement already satisfied: tqdm in /usr/local/lib/python3.7/dist-packages (from openai) (4.64.0)\n",
            "Requirement already satisfied: et-xmlfile in /usr/local/lib/python3.7/dist-packages (from openpyxl>=3.0.7->openai) (1.1.0)\n",
            "Requirement already satisfied: numpy>=1.17.3 in /usr/local/lib/python3.7/dist-packages (from pandas>=1.2.3->openai) (1.21.6)\n",
            "Requirement already satisfied: pytz>=2017.3 in /usr/local/lib/python3.7/dist-packages (from pandas>=1.2.3->openai) (2022.1)\n",
            "Requirement already satisfied: python-dateutil>=2.7.3 in /usr/local/lib/python3.7/dist-packages (from pandas>=1.2.3->openai) (2.8.2)\n",
            "Requirement already satisfied: typing-extensions>=3.7.4.3 in /usr/local/lib/python3.7/dist-packages (from pandas-stubs>=1.1.0.11->openai) (4.2.0)\n",
            "Requirement already satisfied: six>=1.5 in /usr/local/lib/python3.7/dist-packages (from python-dateutil>=2.7.3->pandas>=1.2.3->openai) (1.15.0)\n",
            "Requirement already satisfied: urllib3!=1.25.0,!=1.25.1,<1.26,>=1.21.1 in /usr/local/lib/python3.7/dist-packages (from requests>=2.20->openai) (1.24.3)\n",
            "Requirement already satisfied: certifi>=2017.4.17 in /usr/local/lib/python3.7/dist-packages (from requests>=2.20->openai) (2021.10.8)\n",
            "Requirement already satisfied: idna<3,>=2.5 in /usr/local/lib/python3.7/dist-packages (from requests>=2.20->openai) (2.10)\n",
            "Requirement already satisfied: chardet<4,>=3.0.2 in /usr/local/lib/python3.7/dist-packages (from requests>=2.20->openai) (3.0.4)\n",
            "Building wheels for collected packages: openai\n",
            "  Building wheel for openai (PEP 517) ... \u001b[?25l\u001b[?25hdone\n",
            "  Created wheel for openai: filename=openai-0.18.1-py3-none-any.whl size=53168 sha256=d64834b2b1c725607ecc921e68c867061a2021e742efcf86c965ee7410ad6912\n",
            "  Stored in directory: /root/.cache/pip/wheels/5a/bf/24/fcdc9d2b81f9c7e565bb2036ec9f7cc930056b829895b3bf48\n",
            "Successfully built openai\n",
            "Installing collected packages: pandas-stubs, openai\n",
            "Successfully installed openai-0.18.1 pandas-stubs-1.2.0.58\n"
          ]
        }
      ],
      "source": [
        "!pip install openai"
      ]
    },
    {
      "cell_type": "code",
      "source": [
        "import openai\n",
        "openai.organization = \"\"\n",
        "openai.api_key = \"\""
      ],
      "metadata": {
        "id": "6uyCmL6Of21o"
      },
      "execution_count": null,
      "outputs": []
    },
    {
      "cell_type": "code",
      "source": [
        "#@markdown The models' training data cuts off in October 2019; there may be incapabilities in answering regarding recent context knowledge. Keep that in mind.\n",
        "#@markdown <br><br>Which topic should the question ask about?\n",
        "topic = \"Mathematical induction\" #@param {type: \"string\"}\n",
        "#@markdown Provide examples of the questions you want the model to generate. The higher the quantity is, the better the result is. It's not necessary to fill in all sections.\n",
        "question_example_1 = \"Using the principle of mathematical induction, prove that   1\\xB2 + 2\\xB2 + 3\\xB2 + ..... + n\\xB2 = (1/6){n(n + 1)(2n + 1} for all n \\u2208 N. \" #@param {type: \"string\"}\n",
        "question_example_2 = \"By using mathematical induction prove that the given equation is true for all positive integers.  1 x 2 + 3 x 4 + 5 x 6 + \\u2026. + (2n - 1) x 2n = n(n+1)(4n\\u22121)3\" #@param {type: \"string\"}\n",
        "question_example_3 = \"Using the principle of mathematical induction, prove that  1 \\u2219 2 + 2 \\u2219 3 + 3 \\u2219 4 + ..... + n(n + 1) = (1/3){n(n + 1)(n + 2)}. \" #@param {type: \"string\"}\n",
        "question_example_4 = \"By using mathematical induction prove that the given equation is true for all positive integers.  2 + 4 + 6 + \\u2026. + 2n = n(n+1)\" #@param {type: \"string\"}\n",
        "question_example_5 = \"Using the principle of mathematical induction, prove that  1 \\u2219 3 + 3 \\u2219 5 + 5 \\u2219 7 +.....+ (2n - 1)(2n + 1) = (1/3){n(4n\\xB2 + 6n - 1).\" #@param {type: \"string\"}\n",
        "#@markdown Provide the requirements the model should follow when generating the question. It's not necessary to fill in all sections.\n",
        "question_requirement_1 = \"Question should be within two sentences.\" #@param {type: \"string\"}\n",
        "question_requirement_2 = \"Question should use different numeral values from the given examples.\" #@param {type: \"string\"}\n",
        "question_requirement_3 = \"Question should use different variables and mathematical expressions from the given examples.\" #@param {type: \"string\"}\n",
        "question_requirement_4 = \"Also include mathematical equations that can be proven to be true for all real numbers, natural numbers, etc.\" #@param {type: \"string\"}\n",
        "question_requirement_5 = \"\" #@param {type: \"string\"}\n",
        "#@markdown How many questions should the model generate?\n",
        "number_of_questions = 5 #@param {type: \"slider\", min:1, max:7, step:1}\n",
        "\n",
        "question_examples = [example for example in [question_example_1, question_example_2, question_example_3, question_example_4, question_example_5] if example != \"\"]\n",
        "question_requirements = [requirement for requirement in [question_requirement_1, question_requirement_2, question_requirement_3, question_requirement_4, question_requirement_5] if requirement != \"\"]\n",
        "\n",
        "examples = f\"Generate questions sharing similar structures as these:\" + \"\".join([f\"\\n-{example}\" for example in question_examples]) + \"\\n\" if len(question_examples)>0 else \"\"\n",
        "requirements = f\"Here are the requirements to follow when generating the questions:\" + \"\".join([f\"\\n-{requirement}\" for requirement in question_requirements]) + \"\\n\" if len(question_requirements)>0 else \"\"\n",
        "\n",
        "prompt = f\"Generate {number_of_questions} questions regarding {topic}.\\n{examples}\\n{requirements}\\nA:\"\n",
        "\n",
        "response = openai.Completion.create(\n",
        "  engine=\"text-davinci-002\",\n",
        "  prompt=prompt,\n",
        "  temperature=0.8,\n",
        "  max_tokens=2000,\n",
        "  top_p=1,\n",
        "  frequency_penalty=0.1,\n",
        "  presence_penalty=0.0\n",
        ")"
      ],
      "metadata": {
        "id": "AtOAC_o6f4Nj"
      },
      "execution_count": null,
      "outputs": []
    },
    {
      "cell_type": "code",
      "source": [
        "print(response[\"choices\"][0][\"text\"])"
      ],
      "metadata": {
        "colab": {
          "base_uri": "https://localhost:8080/"
        },
        "id": "SHn3B78wiWiv",
        "outputId": "df2a6a4d-76fa-42e2-83c1-7eeca0438a0b"
      },
      "execution_count": null,
      "outputs": [
        {
          "output_type": "stream",
          "name": "stdout",
          "text": [
            " 1. Using the principle of mathematical induction, prove that the given equation is true for all positive integers.  \n",
            "2. By using mathematical induction prove that the given equation is true for all positive integers. \n",
            "3. Using the principle of mathematical induction, prove that the given equation is true for all real numbers. \n",
            "4. Using the principle of mathematical induction, prove that the given equation is true for all natural numbers. \n",
            "5. Prove by mathematical induction that the given equation is true for all odd integers.\n"
          ]
        }
      ]
    }
  ]
}